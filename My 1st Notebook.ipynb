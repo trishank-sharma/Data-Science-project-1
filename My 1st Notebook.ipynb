{
    "nbformat_minor": 1, 
    "cells": [
        {
            "source": "1+1", 
            "cell_type": "code", 
            "metadata": {}, 
            "outputs": [
                {
                    "output_type": "execute_result", 
                    "data": {
                        "text/plain": "2"
                    }, 
                    "execution_count": 1, 
                    "metadata": {}
                }
            ], 
            "execution_count": 1
        }, 
        {
            "source": "My Title 1", 
            "cell_type": "markdown", 
            "metadata": {}
        }, 
        {
            "source": "x=\"Hello World\"\nprint(x)", 
            "cell_type": "code", 
            "metadata": {}, 
            "outputs": [
                {
                    "output_type": "stream", 
                    "name": "stdout", 
                    "text": "Hello World\n"
                }
            ], 
            "execution_count": 2
        }, 
        {
            "source": "<font color=\"red\">RED TEXT</font>\n\n# Header1\n## Header 2\n### Header 3\n\n\n**come on**  \n_italics_", 
            "cell_type": "markdown", 
            "metadata": {}
        }, 
        {
            "source": "1. First ordered list item\n2. Another item  \n * Unordered sub-list.   \n1. Actual numbers don't matter, just that it's a number  \n  1. Ordered sub-list  \n4. And another item.\n", 
            "cell_type": "markdown", 
            "metadata": {}
        }, 
        {
            "source": "", 
            "cell_type": "code", 
            "metadata": {}, 
            "outputs": [], 
            "execution_count": null
        }
    ], 
    "metadata": {
        "kernelspec": {
            "display_name": "Python 3.6", 
            "name": "python3", 
            "language": "python"
        }, 
        "language_info": {
            "mimetype": "text/x-python", 
            "nbconvert_exporter": "python", 
            "version": "3.6.8", 
            "name": "python", 
            "pygments_lexer": "ipython3", 
            "file_extension": ".py", 
            "codemirror_mode": {
                "version": 3, 
                "name": "ipython"
            }
        }
    }, 
    "nbformat": 4
}