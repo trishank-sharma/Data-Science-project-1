         {
            "source": "# House Sales in King County, USA", 
            "cell_type": "markdown", 
            "metadata": {}
        }, 
        {
            "source": "This dataset contains house sale prices for King County, which includes Seattle. It includes homes sold between May 2014 and May 2015.", 
            "cell_type": "markdown", 
            "metadata": {}
        }, 
        {
            "source": "<b>id</b> :a notation for a house\n\n<b> date</b>: Date house was sold\n\n\n<b>price</b>: Price is prediction target\n\n\n<b>bedrooms</b>: Number of Bedrooms/House\n\n\n<b>bathrooms</b>: Number of bathrooms/bedrooms\n\n<b>sqft_living</b>: square footage of the home\n\n<b>sqft_lot</b>: square footage of the lot\n\n\n<b>floors</b> :Total floors (levels) in house\n\n\n<b>waterfront</b> :House which has a view to a waterfront\n\n\n<b>view</b>: Has been viewed\n\n\n<b>condition</b> :How good the condition is  Overall\n\n<b>grade</b>: overall grade given to the housing unit, based on King County grading system\n\n\n<b>sqft_above</b> :square footage of house apart from basement\n\n\n<b>sqft_basement</b>: square footage of the basement\n\n<b>yr_built</b> :Built Year\n\n\n<b>yr_renovated</b> :Year when house was renovated\n\n<b>zipcode</b>:zip code\n\n\n<b>lat</b>: Latitude coordinate\n\n<b>long</b>: Longitude coordinate\n\n<b>sqft_living15</b> :Living room area in 2015(implies-- some renovations) This might or might not have affected the lotsize area\n\n\n<b>sqft_lot15</b> :lotSize area in 2015(implies-- some renovations)", 
            "cell_type": "markdown", 
            "metadata": {}
        }, 
        {
            "source": "You will require the following libraries ", 
            "cell_type": "markdown", 
            "metadata": {}
        }, 
        {
            "source": "import pandas as pd\nimport matplotlib.pyplot as plt\nimport numpy as np\nimport seaborn as sns\nfrom sklearn.pipeline import Pipeline\nfrom sklearn.preprocessing import StandardScaler,PolynomialFeatures\n%matplotlib inline", 
            "cell_type": "code", 
            "execution_count": 1, 
            "outputs": [], 
            "metadata": {}
        }, 
        {
            "source": "# 1.0 Importing the Data ", 
            "cell_type": "markdown", 
            "metadata": {}
        }, 
        {
            "source": " Loading the csv file:  ", 
            "cell_type": "markdown", 
            "metadata": {}
        }, 
        {
            "source": "file_name='https://s3-api.us-geo.objectstorage.softlayer.net/cf-courses-data/CognitiveClass/DA0101EN/coursera/project/kc_house_data_NaN.csv'\ndf=pd.read_csv(file_name)", 
            "cell_type": "code", 
            "execution_count": 2, 
            "outputs": [], 
            "metadata": {}
        }, 
        {
            "source": "\nUsing the method <code>head</code> to display the first 5 columns of the dataframe.", 
            "cell_type": "markdown", 
            "metadata": {}
        }, 
        {
            "source": "df.head()", 
            "cell_type": "code", 
            "execution_count": 3, 
            "outputs": [
                {
                    "output_type": "execute_result", 
                    "metadata": {}, 
                    "data": {
                        "text/html": "<div>\n<style scoped>\n    .dataframe tbody tr th:only-of-type {\n        vertical-align: middle;\n    }\n\n    .dataframe tbody tr th {\n        vertical-align: top;\n    }\n\n    .dataframe thead th {\n        text-align: right;\n    }\n</style>\n<table border=\"1\" class=\"dataframe\">\n  <thead>\n    <tr style=\"text-align: right;\">\n      <th></th>\n      <th>Unnamed: 0</th>\n      <th>id</th>\n      <th>date</th>\n      <th>price</th>\n      <th>bedrooms</th>\n      <th>bathrooms</th>\n      <th>sqft_living</th>\n      <th>sqft_lot</th>\n      <th>floors</th>\n      <th>waterfront</th>\n      <th>...</th>\n      <th>grade</th>\n      <th>sqft_above</th>\n      <th>sqft_basement</th>\n      <th>yr_built</th>\n      <th>yr_renovated</th>\n      <th>zipcode</th>\n      <th>lat</th>\n      <th>long</th>\n      <th>sqft_living15</th>\n      <th>sqft_lot15</th>\n    </tr>\n  </thead>\n  <tbody>\n    <tr>\n      <th>0</th>\n      <td>0</td>\n      <td>7129300520</td>\n      <td>20141013T000000</td>\n      <td>221900.0</td>\n      <td>3.0</td>\n      <td>1.00</td>\n      <td>1180</td>\n      <td>5650</td>\n      <td>1.0</td>\n      <td>0</td>\n      <td>...</td>\n      <td>7</td>\n      <td>1180</td>\n      <td>0</td>\n      <td>1955</td>\n      <td>0</td>\n      <td>98178</td>\n      <td>47.5112</td>\n      <td>-122.257</td>\n      <td>1340</td>\n      <td>5650</td>\n    </tr>\n    <tr>\n      <th>1</th>\n      <td>1</td>\n      <td>6414100192</td>\n      <td>20141209T000000</td>\n      <td>538000.0</td>\n      <td>3.0</td>\n      <td>2.25</td>\n      <td>2570</td>\n      <td>7242</td>\n      <td>2.0</td>\n      <td>0</td>\n      <td>...</td>\n      <td>7</td>\n      <td>2170</td>\n      <td>400</td>\n      <td>1951</td>\n      <td>1991</td>\n      <td>98125</td>\n      <td>47.7210</td>\n      <td>-122.319</td>\n      <td>1690</td>\n      <td>7639</td>\n    </tr>\n    <tr>\n      <th>2</th>\n      <td>2</td>\n      <td>5631500400</td>\n      <td>20150225T000000</td>\n      <td>180000.0</td>\n      <td>2.0</td>\n      <td>1.00</td>\n      <td>770</td>\n      <td>10000</td>\n      <td>1.0</td>\n      <td>0</td>\n      <td>...</td>\n      <td>6</td>\n      <td>770</td>\n      <td>0</td>\n      <td>1933</td>\n      <td>0</td>\n      <td>98028</td>\n      <td>47.7379</td>\n      <td>-122.233</td>\n      <td>2720</td>\n      <td>8062</td>\n    </tr>\n    <tr>\n      <th>3</th>\n      <td>3</td>\n      <td>2487200875</td>\n      <td>20141209T000000</td>\n      <td>604000.0</td>\n      <td>4.0</td>\n      <td>3.00</td>\n      <td>1960</td>\n      <td>5000</td>\n      <td>1.0</td>\n      <td>0</td>\n      <td>...</td>\n      <td>7</td>\n      <td>1050</td>\n      <td>910</td>\n      <td>1965</td>\n      <td>0</td>\n      <td>98136</td>\n      <td>47.5208</td>\n      <td>-122.393</td>\n      <td>1360</td>\n      <td>5000</td>\n    </tr>\n    <tr>\n      <th>4</th>\n      <td>4</td>\n      <td>1954400510</td>\n      <td>20150218T000000</td>\n      <td>510000.0</td>\n      <td>3.0</td>\n      <td>2.00</td>\n      <td>1680</td>\n      <td>8080</td>\n      <td>1.0</td>\n      <td>0</td>\n      <td>...</td>\n      <td>8</td>\n      <td>1680</td>\n      <td>0</td>\n      <td>1987</td>\n      <td>0</td>\n      <td>98074</td>\n      <td>47.6168</td>\n      <td>-122.045</td>\n      <td>1800</td>\n      <td>7503</td>\n    </tr>\n  </tbody>\n</table>\n<p>5 rows \u00d7 22 columns</p>\n</div>", 
                        "text/plain": "   Unnamed: 0          id             date     price  bedrooms  bathrooms  \\\n0           0  7129300520  20141013T000000  221900.0       3.0       1.00   \n1           1  6414100192  20141209T000000  538000.0       3.0       2.25   \n2           2  5631500400  20150225T000000  180000.0       2.0       1.00   \n3           3  2487200875  20141209T000000  604000.0       4.0       3.00   \n4           4  1954400510  20150218T000000  510000.0       3.0       2.00   \n\n   sqft_living  sqft_lot  floors  waterfront  ...  grade  sqft_above  \\\n0         1180      5650     1.0           0  ...      7        1180   \n1         2570      7242     2.0           0  ...      7        2170   \n2          770     10000     1.0           0  ...      6         770   \n3         1960      5000     1.0           0  ...      7        1050   \n4         1680      8080     1.0           0  ...      8        1680   \n\n   sqft_basement  yr_built  yr_renovated  zipcode      lat     long  \\\n0              0      1955             0    98178  47.5112 -122.257   \n1            400      1951          1991    98125  47.7210 -122.319   \n2              0      1933             0    98028  47.7379 -122.233   \n3            910      1965             0    98136  47.5208 -122.393   \n4              0      1987             0    98074  47.6168 -122.045   \n\n   sqft_living15  sqft_lot15  \n0           1340        5650  \n1           1690        7639  \n2           2720        8062  \n3           1360        5000  \n4           1800        7503  \n\n[5 rows x 22 columns]"
                    }, 
                    "execution_count": 3
                }
            ], 
            "metadata": {}
        }, 
        {
            "source": "#### Question 1 \nDisplay the data types of each column using the attribute dtype", 
            "cell_type": "markdown", 
            "metadata": {}
        }, 
        {
            "source": "df.dtypes", 
            "cell_type": "code", 
            "execution_count": 4, 
            "outputs": [
                {
                    "output_type": "execute_result", 
                    "metadata": {}, 
                    "data": {
                        "text/plain": "Unnamed: 0         int64\nid                 int64\ndate              object\nprice            float64\nbedrooms         float64\nbathrooms        float64\nsqft_living        int64\nsqft_lot           int64\nfloors           float64\nwaterfront         int64\nview               int64\ncondition          int64\ngrade              int64\nsqft_above         int64\nsqft_basement      int64\nyr_built           int64\nyr_renovated       int64\nzipcode            int64\nlat              float64\nlong             float64\nsqft_living15      int64\nsqft_lot15         int64\ndtype: object"
                    }, 
                    "execution_count": 4
                }
            ], 
            "metadata": {}
        }, 
        {
            "source": "Use the method describe to obtain a statistical summary of the dataframe.", 
            "cell_type": "markdown", 
            "metadata": {}
        }, 
        {
            "source": "df.describe()", 
            "cell_type": "code", 
            "execution_count": 5, 
            "outputs": [
                {
                    "output_type": "execute_result", 
                    "metadata": {}, 
                    "data": {
                        "text/html": "<div>\n<style scoped>\n    .dataframe tbody tr th:only-of-type {\n        vertical-align: middle;\n    }\n\n    .dataframe tbody tr th {\n        vertical-align: top;\n    }\n\n    .dataframe thead th {\n        text-align: right;\n    }\n</style>\n<table border=\"1\" class=\"dataframe\">\n  <thead>\n    <tr style=\"text-align: right;\">\n      <th></th>\n      <th>Unnamed: 0</th>\n      <th>id</th>\n      <th>price</th>\n      <th>bedrooms</th>\n      <th>bathrooms</th>\n      <th>sqft_living</th>\n      <th>sqft_lot</th>\n      <th>floors</th>\n      <th>waterfront</th>\n      <th>view</th>\n      <th>...</th>\n      <th>grade</th>\n      <th>sqft_above</th>\n      <th>sqft_basement</th>\n      <th>yr_built</th>\n      <th>yr_renovated</th>\n      <th>zipcode</th>\n      <th>lat</th>\n      <th>long</th>\n      <th>sqft_living15</th>\n      <th>sqft_lot15</th>\n    </tr>\n  </thead>\n  <tbody>\n    <tr>\n      <th>count</th>\n      <td>21613.00000</td>\n      <td>2.161300e+04</td>\n      <td>2.161300e+04</td>\n      <td>21600.000000</td>\n      <td>21603.000000</td>\n      <td>21613.000000</td>\n      <td>2.161300e+04</td>\n      <td>21613.000000</td>\n      <td>21613.000000</td>\n      <td>21613.000000</td>\n      <td>...</td>\n      <td>21613.000000</td>\n      <td>21613.000000</td>\n      <td>21613.000000</td>\n      <td>21613.000000</td>\n      <td>21613.000000</td>\n      <td>21613.000000</td>\n      <td>21613.000000</td>\n      <td>21613.000000</td>\n      <td>21613.000000</td>\n      <td>21613.000000</td>\n    </tr>\n    <tr>\n      <th>mean</th>\n      <td>10806.00000</td>\n      <td>4.580302e+09</td>\n      <td>5.400881e+05</td>\n      <td>3.372870</td>\n      <td>2.115736</td>\n      <td>2079.899736</td>\n      <td>1.510697e+04</td>\n      <td>1.494309</td>\n      <td>0.007542</td>\n      <td>0.234303</td>\n      <td>...</td>\n      <td>7.656873</td>\n      <td>1788.390691</td>\n      <td>291.509045</td>\n      <td>1971.005136</td>\n      <td>84.402258</td>\n      <td>98077.939805</td>\n      <td>47.560053</td>\n      <td>-122.213896</td>\n      <td>1986.552492</td>\n      <td>12768.455652</td>\n    </tr>\n    <tr>\n      <th>std</th>\n      <td>6239.28002</td>\n      <td>2.876566e+09</td>\n      <td>3.671272e+05</td>\n      <td>0.926657</td>\n      <td>0.768996</td>\n      <td>918.440897</td>\n      <td>4.142051e+04</td>\n      <td>0.539989</td>\n      <td>0.086517</td>\n      <td>0.766318</td>\n      <td>...</td>\n      <td>1.175459</td>\n      <td>828.090978</td>\n      <td>442.575043</td>\n      <td>29.373411</td>\n      <td>401.679240</td>\n      <td>53.505026</td>\n      <td>0.138564</td>\n      <td>0.140828</td>\n      <td>685.391304</td>\n      <td>27304.179631</td>\n    </tr>\n    <tr>\n      <th>min</th>\n      <td>0.00000</td>\n      <td>1.000102e+06</td>\n      <td>7.500000e+04</td>\n      <td>1.000000</td>\n      <td>0.500000</td>\n      <td>290.000000</td>\n      <td>5.200000e+02</td>\n      <td>1.000000</td>\n      <td>0.000000</td>\n      <td>0.000000</td>\n      <td>...</td>\n      <td>1.000000</td>\n      <td>290.000000</td>\n      <td>0.000000</td>\n      <td>1900.000000</td>\n      <td>0.000000</td>\n      <td>98001.000000</td>\n      <td>47.155900</td>\n      <td>-122.519000</td>\n      <td>399.000000</td>\n      <td>651.000000</td>\n    </tr>\n    <tr>\n      <th>25%</th>\n      <td>5403.00000</td>\n      <td>2.123049e+09</td>\n      <td>3.219500e+05</td>\n      <td>3.000000</td>\n      <td>1.750000</td>\n      <td>1427.000000</td>\n      <td>5.040000e+03</td>\n      <td>1.000000</td>\n      <td>0.000000</td>\n      <td>0.000000</td>\n      <td>...</td>\n      <td>7.000000</td>\n      <td>1190.000000</td>\n      <td>0.000000</td>\n      <td>1951.000000</td>\n      <td>0.000000</td>\n      <td>98033.000000</td>\n      <td>47.471000</td>\n      <td>-122.328000</td>\n      <td>1490.000000</td>\n      <td>5100.000000</td>\n    </tr>\n    <tr>\n      <th>50%</th>\n      <td>10806.00000</td>\n      <td>3.904930e+09</td>\n      <td>4.500000e+05</td>\n      <td>3.000000</td>\n      <td>2.250000</td>\n      <td>1910.000000</td>\n      <td>7.618000e+03</td>\n      <td>1.500000</td>\n      <td>0.000000</td>\n      <td>0.000000</td>\n      <td>...</td>\n      <td>7.000000</td>\n      <td>1560.000000</td>\n      <td>0.000000</td>\n      <td>1975.000000</td>\n      <td>0.000000</td>\n      <td>98065.000000</td>\n      <td>47.571800</td>\n      <td>-122.230000</td>\n      <td>1840.000000</td>\n      <td>7620.000000</td>\n    </tr>\n    <tr>\n      <th>75%</th>\n      <td>16209.00000</td>\n      <td>7.308900e+09</td>\n      <td>6.450000e+05</td>\n      <td>4.000000</td>\n      <td>2.500000</td>\n      <td>2550.000000</td>\n      <td>1.068800e+04</td>\n      <td>2.000000</td>\n      <td>0.000000</td>\n      <td>0.000000</td>\n      <td>...</td>\n      <td>8.000000</td>\n      <td>2210.000000</td>\n      <td>560.000000</td>\n      <td>1997.000000</td>\n      <td>0.000000</td>\n      <td>98118.000000</td>\n      <td>47.678000</td>\n      <td>-122.125000</td>\n      <td>2360.000000</td>\n      <td>10083.000000</td>\n    </tr>\n    <tr>\n      <th>max</th>\n      <td>21612.00000</td>\n      <td>9.900000e+09</td>\n      <td>7.700000e+06</td>\n      <td>33.000000</td>\n      <td>8.000000</td>\n      <td>13540.000000</td>\n      <td>1.651359e+06</td>\n      <td>3.500000</td>\n      <td>1.000000</td>\n      <td>4.000000</td>\n      <td>...</td>\n      <td>13.000000</td>\n      <td>9410.000000</td>\n      <td>4820.000000</td>\n      <td>2015.000000</td>\n      <td>2015.000000</td>\n      <td>98199.000000</td>\n      <td>47.777600</td>\n      <td>-121.315000</td>\n      <td>6210.000000</td>\n      <td>871200.000000</td>\n    </tr>\n  </tbody>\n</table>\n<p>8 rows \u00d7 21 columns</p>\n</div>", 
                        "text/plain": "        Unnamed: 0            id         price      bedrooms     bathrooms  \\\ncount  21613.00000  2.161300e+04  2.161300e+04  21600.000000  21603.000000   \nmean   10806.00000  4.580302e+09  5.400881e+05      3.372870      2.115736   \nstd     6239.28002  2.876566e+09  3.671272e+05      0.926657      0.768996   \nmin        0.00000  1.000102e+06  7.500000e+04      1.000000      0.500000   \n25%     5403.00000  2.123049e+09  3.219500e+05      3.000000      1.750000   \n50%    10806.00000  3.904930e+09  4.500000e+05      3.000000      2.250000   \n75%    16209.00000  7.308900e+09  6.450000e+05      4.000000      2.500000   \nmax    21612.00000  9.900000e+09  7.700000e+06     33.000000      8.000000   \n\n        sqft_living      sqft_lot        floors    waterfront          view  \\\ncount  21613.000000  2.161300e+04  21613.000000  21613.000000  21613.000000   \nmean    2079.899736  1.510697e+04      1.494309      0.007542      0.234303   \nstd      918.440897  4.142051e+04      0.539989      0.086517      0.766318   \nmin      290.000000  5.200000e+02      1.000000      0.000000      0.000000   \n25%     1427.000000  5.040000e+03      1.000000      0.000000      0.000000   \n50%     1910.000000  7.618000e+03      1.500000      0.000000      0.000000   \n75%     2550.000000  1.068800e+04      2.000000      0.000000      0.000000   \nmax    13540.000000  1.651359e+06      3.500000      1.000000      4.000000   \n\n       ...         grade    sqft_above  sqft_basement      yr_built  \\\ncount  ...  21613.000000  21613.000000   21613.000000  21613.000000   \nmean   ...      7.656873   1788.390691     291.509045   1971.005136   \nstd    ...      1.175459    828.090978     442.575043     29.373411   \nmin    ...      1.000000    290.000000       0.000000   1900.000000   \n25%    ...      7.000000   1190.000000       0.000000   1951.000000   \n50%    ...      7.000000   1560.000000       0.000000   1975.000000   \n75%    ...      8.000000   2210.000000     560.000000   1997.000000   \nmax    ...     13.000000   9410.000000    4820.000000   2015.000000   \n\n       yr_renovated       zipcode           lat          long  sqft_living15  \\\ncount  21613.000000  21613.000000  21613.000000  21613.000000   21613.000000   \nmean      84.402258  98077.939805     47.560053   -122.213896    1986.552492   \nstd      401.679240     53.505026      0.138564      0.140828     685.391304   \nmin        0.000000  98001.000000     47.155900   -122.519000     399.000000   \n25%        0.000000  98033.000000     47.471000   -122.328000    1490.000000   \n50%        0.000000  98065.000000     47.571800   -122.230000    1840.000000   \n75%        0.000000  98118.000000     47.678000   -122.125000    2360.000000   \nmax     2015.000000  98199.000000     47.777600   -121.315000    6210.000000   \n\n          sqft_lot15  \ncount   21613.000000  \nmean    12768.455652  \nstd     27304.179631  \nmin       651.000000  \n25%      5100.000000  \n50%      7620.000000  \n75%     10083.000000  \nmax    871200.000000  \n\n[8 rows x 21 columns]"
                    }, 
                    "execution_count": 5
                }
            ], 
            "metadata": {}
        }, 
        {
            "source": "# 2.0 Data Wrangling", 
            "cell_type": "markdown", 
            "metadata": {}
        }, 
        {
            "source": "#### Question 2 \nDrop the columns <code>\"id\"</code>  and <code>\"Unnamed: 0\"</code> from axis 1 using the method <code>drop()</code>, then use the method <code>describe()</code> to obtain a statistical summary of the data. Take a screenshot and submit it, make sure the inplace parameter is set to <code>True</code>", 
            "cell_type": "markdown", 
            "metadata": {}
        }, 
        {
            "source": "df.drop(labels=['id','Unnamed: 0'],axis=1, inplace=True)\ndf.describe()", 
            "cell_type": "code", 
            "execution_count": 6, 
            "outputs": [
                {
                    "output_type": "execute_result", 
                    "metadata": {}, 
                    "data": {
                        "text/html": "<div>\n<style scoped>\n    .dataframe tbody tr th:only-of-type {\n        vertical-align: middle;\n    }\n\n    .dataframe tbody tr th {\n        vertical-align: top;\n    }\n\n    .dataframe thead th {\n        text-align: right;\n    }\n</style>\n<table border=\"1\" class=\"dataframe\">\n  <thead>\n    <tr style=\"text-align: right;\">\n      <th></th>\n      <th>price</th>\n      <th>bedrooms</th>\n      <th>bathrooms</th>\n      <th>sqft_living</th>\n      <th>sqft_lot</th>\n      <th>floors</th>\n      <th>waterfront</th>\n      <th>view</th>\n      <th>condition</th>\n      <th>grade</th>\n      <th>sqft_above</th>\n      <th>sqft_basement</th>\n      <th>yr_built</th>\n      <th>yr_renovated</th>\n      <th>zipcode</th>\n      <th>lat</th>\n      <th>long</th>\n      <th>sqft_living15</th>\n      <th>sqft_lot15</th>\n    </tr>\n  </thead>\n  <tbody>\n    <tr>\n      <th>count</th>\n      <td>2.161300e+04</td>\n      <td>21600.000000</td>\n      <td>21603.000000</td>\n      <td>21613.000000</td>\n      <td>2.161300e+04</td>\n      <td>21613.000000</td>\n      <td>21613.000000</td>\n      <td>21613.000000</td>\n      <td>21613.000000</td>\n      <td>21613.000000</td>\n      <td>21613.000000</td>\n      <td>21613.000000</td>\n      <td>21613.000000</td>\n      <td>21613.000000</td>\n      <td>21613.000000</td>\n      <td>21613.000000</td>\n      <td>21613.000000</td>\n      <td>21613.000000</td>\n      <td>21613.000000</td>\n    </tr>\n    <tr>\n      <th>mean</th>\n      <td>5.400881e+05</td>\n      <td>3.372870</td>\n      <td>2.115736</td>\n      <td>2079.899736</td>\n      <td>1.510697e+04</td>\n      <td>1.494309</td>\n      <td>0.007542</td>\n      <td>0.234303</td>\n      <td>3.409430</td>\n      <td>7.656873</td>\n      <td>1788.390691</td>\n      <td>291.509045</td>\n      <td>1971.005136</td>\n      <td>84.402258</td>\n      <td>98077.939805</td>\n      <td>47.560053</td>\n      <td>-122.213896</td>\n      <td>1986.552492</td>\n      <td>12768.455652</td>\n    </tr>\n    <tr>\n      <th>std</th>\n      <td>3.671272e+05</td>\n      <td>0.926657</td>\n      <td>0.768996</td>\n      <td>918.440897</td>\n      <td>4.142051e+04</td>\n      <td>0.539989</td>\n      <td>0.086517</td>\n      <td>0.766318</td>\n      <td>0.650743</td>\n      <td>1.175459</td>\n      <td>828.090978</td>\n      <td>442.575043</td>\n      <td>29.373411</td>\n      <td>401.679240</td>\n      <td>53.505026</td>\n      <td>0.138564</td>\n      <td>0.140828</td>\n      <td>685.391304</td>\n      <td>27304.179631</td>\n    </tr>\n    <tr>\n      <th>min</th>\n      <td>7.500000e+04</td>\n      <td>1.000000</td>\n      <td>0.500000</td>\n      <td>290.000000</td>\n      <td>5.200000e+02</td>\n      <td>1.000000</td>\n      <td>0.000000</td>\n      <td>0.000000</td>\n      <td>1.000000</td>\n      <td>1.000000</td>\n      <td>290.000000</td>\n      <td>0.000000</td>\n      <td>1900.000000</td>\n      <td>0.000000</td>\n      <td>98001.000000</td>\n      <td>47.155900</td>\n      <td>-122.519000</td>\n      <td>399.000000</td>\n      <td>651.000000</td>\n    </tr>\n    <tr>\n      <th>25%</th>\n      <td>3.219500e+05</td>\n      <td>3.000000</td>\n      <td>1.750000</td>\n      <td>1427.000000</td>\n      <td>5.040000e+03</td>\n      <td>1.000000</td>\n      <td>0.000000</td>\n      <td>0.000000</td>\n      <td>3.000000</td>\n      <td>7.000000</td>\n      <td>1190.000000</td>\n      <td>0.000000</td>\n      <td>1951.000000</td>\n      <td>0.000000</td>\n      <td>98033.000000</td>\n      <td>47.471000</td>\n      <td>-122.328000</td>\n      <td>1490.000000</td>\n      <td>5100.000000</td>\n    </tr>\n    <tr>\n      <th>50%</th>\n      <td>4.500000e+05</td>\n      <td>3.000000</td>\n      <td>2.250000</td>\n      <td>1910.000000</td>\n      <td>7.618000e+03</td>\n      <td>1.500000</td>\n      <td>0.000000</td>\n      <td>0.000000</td>\n      <td>3.000000</td>\n      <td>7.000000</td>\n      <td>1560.000000</td>\n      <td>0.000000</td>\n      <td>1975.000000</td>\n      <td>0.000000</td>\n      <td>98065.000000</td>\n      <td>47.571800</td>\n      <td>-122.230000</td>\n      <td>1840.000000</td>\n      <td>7620.000000</td>\n    </tr>\n    <tr>\n      <th>75%</th>\n      <td>6.450000e+05</td>\n      <td>4.000000</td>\n      <td>2.500000</td>\n      <td>2550.000000</td>\n      <td>1.068800e+04</td>\n      <td>2.000000</td>\n      <td>0.000000</td>\n      <td>0.000000</td>\n      <td>4.000000</td>\n      <td>8.000000</td>\n      <td>2210.000000</td>\n      <td>560.000000</td>\n      <td>1997.000000</td>\n      <td>0.000000</td>\n      <td>98118.000000</td>\n      <td>47.678000</td>\n      <td>-122.125000</td>\n      <td>2360.000000</td>\n      <td>10083.000000</td>\n    </tr>\n    <tr>\n      <th>max</th>\n      <td>7.700000e+06</td>\n      <td>33.000000</td>\n      <td>8.000000</td>\n      <td>13540.000000</td>\n      <td>1.651359e+06</td>\n      <td>3.500000</td>\n      <td>1.000000</td>\n      <td>4.000000</td>\n      <td>5.000000</td>\n      <td>13.000000</td>\n      <td>9410.000000</td>\n      <td>4820.000000</td>\n      <td>2015.000000</td>\n      <td>2015.000000</td>\n      <td>98199.000000</td>\n      <td>47.777600</td>\n      <td>-121.315000</td>\n      <td>6210.000000</td>\n      <td>871200.000000</td>\n    </tr>\n  </tbody>\n</table>\n</div>", 
                        "text/plain": "              price      bedrooms     bathrooms   sqft_living      sqft_lot  \\\ncount  2.161300e+04  21600.000000  21603.000000  21613.000000  2.161300e+04   \nmean   5.400881e+05      3.372870      2.115736   2079.899736  1.510697e+04   \nstd    3.671272e+05      0.926657      0.768996    918.440897  4.142051e+04   \nmin    7.500000e+04      1.000000      0.500000    290.000000  5.200000e+02   \n25%    3.219500e+05      3.000000      1.750000   1427.000000  5.040000e+03   \n50%    4.500000e+05      3.000000      2.250000   1910.000000  7.618000e+03   \n75%    6.450000e+05      4.000000      2.500000   2550.000000  1.068800e+04   \nmax    7.700000e+06     33.000000      8.000000  13540.000000  1.651359e+06   \n\n             floors    waterfront          view     condition         grade  \\\ncount  21613.000000  21613.000000  21613.000000  21613.000000  21613.000000   \nmean       1.494309      0.007542      0.234303      3.409430      7.656873   \nstd        0.539989      0.086517      0.766318      0.650743      1.175459   \nmin        1.000000      0.000000      0.000000      1.000000      1.000000   \n25%        1.000000      0.000000      0.000000      3.000000      7.000000   \n50%        1.500000      0.000000      0.000000      3.000000      7.000000   \n75%        2.000000      0.000000      0.000000      4.000000      8.000000   \nmax        3.500000      1.000000      4.000000      5.000000     13.000000   \n\n         sqft_above  sqft_basement      yr_built  yr_renovated       zipcode  \\\ncount  21613.000000   21613.000000  21613.000000  21613.000000  21613.000000   \nmean    1788.390691     291.509045   1971.005136     84.402258  98077.939805   \nstd      828.090978     442.575043     29.373411    401.679240     53.505026   \nmin      290.000000       0.000000   1900.000000      0.000000  98001.000000   \n25%     1190.000000       0.000000   1951.000000      0.000000  98033.000000   \n50%     1560.000000       0.000000   1975.000000      0.000000  98065.000000   \n75%     2210.000000     560.000000   1997.000000      0.000000  98118.000000   \nmax     9410.000000    4820.000000   2015.000000   2015.000000  98199.000000   \n\n                lat          long  sqft_living15     sqft_lot15  \ncount  21613.000000  21613.000000   21613.000000   21613.000000  \nmean      47.560053   -122.213896    1986.552492   12768.455652  \nstd        0.138564      0.140828     685.391304   27304.179631  \nmin       47.155900   -122.519000     399.000000     651.000000  \n25%       47.471000   -122.328000    1490.000000    5100.000000  \n50%       47.571800   -122.230000    1840.000000    7620.000000  \n75%       47.678000   -122.125000    2360.000000   10083.000000  \nmax       47.777600   -121.315000    6210.000000  871200.000000  "
                    }, 
                    "execution_count": 6
                }
            ], 
            "metadata": {}
        }, 
        {
            "source": "we can see we have missing values for the columns <code> bedrooms</code>  and <code> bathrooms </code>", 
            "cell_type": "markdown", 
            "metadata": {}
        }, 
        {
            "source": "print(\"number of NaN values for the column bedrooms :\", df['bedrooms'].isnull().sum())\nprint(\"number of NaN values for the column bathrooms :\", df['bathrooms'].isnull().sum())", 
            "cell_type": "code", 
            "execution_count": 7, 
            "outputs": [
                {
                    "output_type": "stream", 
                    "name": "stdout", 
                    "text": "number of NaN values for the column bedrooms : 13\nnumber of NaN values for the column bathrooms : 10\n"
                }
            ], 
            "metadata": {}
        }, 
        {
            "source": "\nWe can replace the missing values of the column <code>'bedrooms'</code> with the mean of the column  <code>'bedrooms' </code> using the method replace. Don't forget to set the <code>inplace</code> parameter top <code>True</code>", 
            "cell_type": "markdown", 
            "metadata": {}
        }, 
        {
            "source": "mean=df['bedrooms'].mean()\ndf['bedrooms'].replace(np.nan,mean, inplace=True)", 
            "cell_type": "code", 
            "execution_count": 8, 
            "outputs": [], 
            "metadata": {}
        }, 
        {
            "source": "\nWe also replace the missing values of the column <code>'bathrooms'</code> with the mean of the column  <code>'bedrooms' </codse> using the method replace.Don't forget to set the <code> inplace </code>  parameter top <code> Ture </code>", 
            "cell_type": "markdown", 
            "metadata": {}
        }, 
        {
            "source": "mean=df['bathrooms'].mean()\ndf['bathrooms'].replace(np.nan,mean, inplace=True)", 
            "cell_type": "code", 
            "execution_count": 9, 
            "outputs": [], 
            "metadata": {}
        }, 
        {
            "source": "print(\"number of NaN values for the column bedrooms :\", df['bedrooms'].isnull().sum())\nprint(\"number of NaN values for the column bathrooms :\", df['bathrooms'].isnull().sum())", 
            "cell_type": "code", 
            "execution_count": 10, 
            "outputs": [
                {
                    "output_type": "stream", 
                    "name": "stdout", 
                    "text": "number of NaN values for the column bedrooms : 0\nnumber of NaN values for the column bathrooms : 0\n"
                }
            ], 
            "metadata": {}
        }, 
        {
            "source": "# 3.0 Exploratory data analysis", 
            "cell_type": "markdown", 
            "metadata": {}
        }, 
        {
            "source": "#### Question 3\nUse the method value_counts to count the number of houses with unique floor values, use the method .to_frame() to convert it to a dataframe.\n", 
            "cell_type": "markdown", 
            "metadata": {}
        }, 
        {
            "source": "df['floors'].value_counts().to_frame()", 
            "cell_type": "code", 
            "execution_count": 11, 
            "outputs": [
                {
                    "output_type": "execute_result", 
                    "metadata": {}, 
                    "data": {
                        "text/html": "<div>\n<style scoped>\n    .dataframe tbody tr th:only-of-type {\n        vertical-align: middle;\n    }\n\n    .dataframe tbody tr th {\n        vertical-align: top;\n    }\n\n    .dataframe thead th {\n        text-align: right;\n    }\n</style>\n<table border=\"1\" class=\"dataframe\">\n  <thead>\n    <tr style=\"text-align: right;\">\n      <th></th>\n      <th>floors</th>\n    </tr>\n  </thead>\n  <tbody>\n    <tr>\n      <th>1.0</th>\n      <td>10680</td>\n    </tr>\n    <tr>\n      <th>2.0</th>\n      <td>8241</td>\n    </tr>\n    <tr>\n      <th>1.5</th>\n      <td>1910</td>\n    </tr>\n    <tr>\n      <th>3.0</th>\n      <td>613</td>\n    </tr>\n    <tr>\n      <th>2.5</th>\n      <td>161</td>\n    </tr>\n    <tr>\n      <th>3.5</th>\n      <td>8</td>\n    </tr>\n  </tbody>\n</table>\n</div>", 
                        "text/plain": "     floors\n1.0   10680\n2.0    8241\n1.5    1910\n3.0     613\n2.5     161\n3.5       8"
                    }, 
                    "execution_count": 11
                }
            ], 
            "metadata": {}
        }, 
        {
            "source": "### Question 4\nUse the function <code>boxplot</code> in the seaborn library  to  determine whether houses with a waterfront view or without a waterfront view have more price outliers .", 
            "cell_type": "markdown", 
            "metadata": {}
        }, 
        {
            "source": "sns.boxplot(x=\"waterfront\", y=\"price\", data=df)", 
            "cell_type": "code", 
            "execution_count": 12, 
            "outputs": [
                {
                    "output_type": "execute_result", 
                    "metadata": {}, 
                    "data": {
                        "text/plain": "<matplotlib.axes._subplots.AxesSubplot at 0x7f4cc38aaa58>"
                    }, 
                    "execution_count": 12
                }, 
                {
                    "output_type": "display_data", 
                    "data": {
                        "image/png": "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\n", 
                        "text/plain": "<Figure size 432x288 with 1 Axes>"
                    }, 
                    "metadata": {
                        "needs_background": "light"
                    }
                }
            ], 
            "metadata": {}
        }, 
        {
            "source": "### Question 5\nUse the function <code> regplot</code>  in the seaborn library  to  determine if the feature <code>sqft_above</code> is negatively or positively correlated with price.", 
            "cell_type": "markdown", 
            "metadata": {}
        }, 
        {
            "source": "sns.regplot(x=\"sqft_above\", y=\"price\", data=df,robust= True, ci=None)\n#positive correlation with price obtained", 
            "cell_type": "code", 
            "execution_count": 13, 
            "outputs": [
                {
                    "output_type": "execute_result", 
                    "metadata": {}, 
                    "data": {
                        "text/plain": "<matplotlib.axes._subplots.AxesSubplot at 0x7f4cc37aa518>"
                    }, 
                    "execution_count": 13
                }, 
                {
                    "output_type": "display_data", 
                    "data": {
                        "image/png": "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\n", 
                        "text/plain": "<Figure size 432x288 with 1 Axes>"
                    }, 
                    "metadata": {
                        "needs_background": "light"
                    }
                }
            ], 
            "metadata": {}
        }, 
        {
            "source": "\nWe can use the Pandas method <code>corr()</code>  to find the feature other than price that is most correlated with price.", 
            "cell_type": "markdown", 
            "metadata": {}
        }, 
        {
            "source": "df.corr()['price'].sort_values()", 
            "cell_type": "code", 
            "execution_count": 14, 
            "outputs": [
                {
                    "output_type": "execute_result", 
                    "metadata": {}, 
                    "data": {
                        "text/plain": "zipcode         -0.053203\nlong             0.021626\ncondition        0.036362\nyr_built         0.054012\nsqft_lot15       0.082447\nsqft_lot         0.089661\nyr_renovated     0.126434\nfloors           0.256794\nwaterfront       0.266369\nlat              0.307003\nbedrooms         0.308797\nsqft_basement    0.323816\nview             0.397293\nbathrooms        0.525738\nsqft_living15    0.585379\nsqft_above       0.605567\ngrade            0.667434\nsqft_living      0.702035\nprice            1.000000\nName: price, dtype: float64"
                    }, 
                    "execution_count": 14
                }
            ], 
            "metadata": {}
        }, 
        {
            "source": "# Module 4: Model Development", 
            "cell_type": "markdown", 
            "metadata": {}
        }, 
        {
            "source": "Import libraries ", 
            "cell_type": "markdown", 
            "metadata": {}
        }, 
        {
            "source": "import matplotlib.pyplot as plt\nfrom sklearn.linear_model import LinearRegression\n", 
            "cell_type": "code", 
            "execution_count": 14, 
            "outputs": [], 
            "metadata": {}
        }, 
        {
            "source": "\nWe can Fit a linear regression model using the  longitude feature <code> 'long'</code> and  caculate the R^2.", 
            "cell_type": "markdown", 
            "metadata": {}
        }, 
        {
            "source": "X = df[['long']]\nY = df['price']\nlm = LinearRegression()\nlm\nlm.fit(X,Y)\nlm.score(X, Y)", 
            "cell_type": "code", 
            "execution_count": 15, 
            "outputs": [
                {
                    "output_type": "execute_result", 
                    "metadata": {}, 
                    "data": {
                        "text/plain": "0.00046769430149007363"
                    }, 
                    "execution_count": 15
                }
            ], 
            "metadata": {}
        }, 
        {
            "source": "### Question  6\nFit a linear regression model to predict the <code>'price'</code> using the feature 'sqft_living' then calculate the R^2. Take a screenshot of your code and the value of the R^2.", 
            "cell_type": "markdown", 
            "metadata": {}
        }, 
        {
            "source": "X_ = df[['sqft_living']]\nY_ = df['price']\nlm_ = LinearRegression()\nlm_\nlm_.fit(X_,Y_)\nR_square = lm_.score(X_, Y_)\nR_square", 
            "cell_type": "code", 
            "execution_count": 16, 
            "outputs": [
                {
                    "output_type": "execute_result", 
                    "metadata": {}, 
                    "data": {
                        "text/plain": "0.49285321790379316"
                    }, 
                    "execution_count": 16
                }
            ], 
            "metadata": {}
        }, 
        {
            "source": "### Question 7\nFit a linear regression model to predict the 'price' using the list of features:", 
            "cell_type": "markdown", 
            "metadata": {}
        }, 
        {
            "source": "features =[\"floors\", \"waterfront\",\"lat\" ,\"bedrooms\" ,\"sqft_basement\" ,\"view\" ,\"bathrooms\",\"sqft_living15\",\"sqft_above\",\"grade\",\"sqft_living\"]     ", 
            "cell_type": "code", 
            "execution_count": 17, 
            "outputs": [], 
            "metadata": {}
        }, 
        {
            "source": "the calculate the R^2. Take a screenshot of your code", 
            "cell_type": "markdown", 
            "metadata": {}
        }, 
        {
            "source": "Z = df[features]\nY2=df['price']\nlm2 = LinearRegression()\nlm2\nlm2.fit(Z,Y2)\nR_sq = lm2.score(Z,Y2)\nR_sq", 
            "cell_type": "code", 
            "execution_count": 18, 
            "outputs": [
                {
                    "output_type": "execute_result", 
                    "metadata": {}, 
                    "data": {
                        "text/plain": "0.6576951666037504"
                    }, 
                    "execution_count": 18
                }
            ], 
            "metadata": {}
        }, 
        {
            "source": "#### this will help with Question 8\n\nCreate a list of tuples, the first element in the tuple contains the name of the estimator:\n\n<code>'scale'</code>\n\n<code>'polynomial'</code>\n\n<code>'model'</code>\n\nThe second element in the tuple  contains the model constructor \n\n<code>StandardScaler()</code>\n\n<code>PolynomialFeatures(include_bias=False)</code>\n\n<code>LinearRegression()</code>\n", 
            "cell_type": "markdown", 
            "metadata": {}
        }, 
        {
            "source": "Input=[('scale',StandardScaler()),('polynomial', PolynomialFeatures(include_bias=False)),('model',LinearRegression())]", 
            "cell_type": "code", 
            "execution_count": 19, 
            "outputs": [], 
            "metadata": {}
        }, 
        {
            "source": "### Question 8\nUse the list to create a pipeline object,  predict the 'price', fit the object using the features in the list <code> features </code>, then fit the model and calculate the R^2", 
            "cell_type": "markdown", 
            "metadata": {}
        }, 
        {
            "source": "pipe=Pipeline(Input)\npipe\nZ = df[features]\nY= df['price']\nypipe=pipe.predict(Z)\nprint(ypipe)", 
            "cell_type": "code", 
            "execution_count": 29, 
            "outputs": [
                {
                    "output_type": "stream", 
                    "name": "stdout", 
                    "text": "[349656.  559057.  449476.  ... 417364.  459682.5 417316. ]\n"
                }, 
                {
                    "output_type": "stream", 
                    "name": "stderr", 
                    "text": "/opt/conda/envs/Python36/lib/python3.6/site-packages/sklearn/pipeline.py:331: DataConversionWarning: Data with input dtype int64, float64 were all converted to float64 by StandardScaler.\n  Xt = transform.transform(Xt)\n"
                }
            ], 
            "metadata": {}
        }, 
        {
            "source": "#The list features was defined in line 19\npipe.fit(Z,Y)", 
            "cell_type": "code", 
            "execution_count": 30, 
            "outputs": [
                {
                    "output_type": "stream", 
                    "name": "stderr", 
                    "text": "/opt/conda/envs/Python36/lib/python3.6/site-packages/sklearn/preprocessing/data.py:645: DataConversionWarning: Data with input dtype int64, float64 were all converted to float64 by StandardScaler.\n  return self.partial_fit(X, y)\n/opt/conda/envs/Python36/lib/python3.6/site-packages/sklearn/base.py:467: DataConversionWarning: Data with input dtype int64, float64 were all converted to float64 by StandardScaler.\n  return self.fit(X, y, **fit_params).transform(X)\n"
                }, 
                {
                    "output_type": "execute_result", 
                    "metadata": {}, 
                    "data": {
                        "text/plain": "Pipeline(memory=None,\n     steps=[('scale', StandardScaler(copy=True, with_mean=True, with_std=True)), ('polynomial', PolynomialFeatures(degree=2, include_bias=False, interaction_only=False)), ('model', LinearRegression(copy_X=True, fit_intercept=True, n_jobs=None,\n         normalize=False))])"
                    }, 
                    "execution_count": 30
                }
            ], 
            "metadata": {}
        }, 
        {
            "source": "pipe.score(Z,Y)", 
            "cell_type": "code", 
            "execution_count": 31, 
            "outputs": [
                {
                    "output_type": "stream", 
                    "name": "stderr", 
                    "text": "/opt/conda/envs/Python36/lib/python3.6/site-packages/sklearn/pipeline.py:511: DataConversionWarning: Data with input dtype int64, float64 were all converted to float64 by StandardScaler.\n  Xt = transform.transform(Xt)\n"
                }, 
                {
                    "output_type": "execute_result", 
                    "metadata": {}, 
                    "data": {
                        "text/plain": "0.7513427797293394"
                    }, 
                    "execution_count": 31
                }
            ], 
            "metadata": {}
        }, 
        {
            "source": "# Module 5: MODEL EVALUATION AND REFINEMENT", 
            "cell_type": "markdown", 
            "metadata": {}
        }, 
        {
            "source": "import the necessary modules  ", 
            "cell_type": "markdown", 
            "metadata": {}
        }, 
        {
            "source": "from sklearn.model_selection import cross_val_score\nfrom sklearn.model_selection import train_test_split\nprint(\"done\")", 
            "cell_type": "code", 
            "execution_count": 32, 
            "outputs": [
                {
                    "output_type": "stream", 
                    "name": "stdout", 
                    "text": "done\n"
                }
            ], 
            "metadata": {}
        }, 
        {
            "source": "we will split the data into training and testing set", 
            "cell_type": "markdown", 
            "metadata": {}
        }, 
        {
            "source": "features =[\"floors\", \"waterfront\",\"lat\" ,\"bedrooms\" ,\"sqft_basement\" ,\"view\" ,\"bathrooms\",\"sqft_living15\",\"sqft_above\",\"grade\",\"sqft_living\"]    \nX = df[features]\nY = df['price']\n\nx_train, x_test, y_train, y_test = train_test_split(X, Y, test_size=0.15, random_state=1)\n\n\nprint(\"number of test samples :\", x_test.shape[0])\nprint(\"number of training samples:\",x_train.shape[0])", 
            "cell_type": "code", 
            "execution_count": 34, 
            "outputs": [
                {
                    "output_type": "stream", 
                    "name": "stdout", 
                    "text": "number of test samples : 3242\nnumber of training samples: 18371\n"
                }
            ], 
            "metadata": {}
        }, 
        {
            "source": "### Question 9\nCreate and fit a Ridge regression object using the training data, setting the regularization parameter to 0.1 and calculate the R^2 using the test data. \n", 
            "cell_type": "markdown", 
            "metadata": {}
        }, 
        {
            "source": "from sklearn.linear_model import Ridge", 
            "cell_type": "code", 
            "execution_count": 35, 
            "outputs": [], 
            "metadata": {}
        }, 
        {
            "source": "RigeModel=Ridge(alpha=0.1)\nRigeModel.fit(x_train, y_train)\nRigeModel.score(x_test,y_test)", 
            "cell_type": "code", 
            "execution_count": 36, 
            "outputs": [
                {
                    "output_type": "execute_result", 
                    "metadata": {}, 
                    "data": {
                        "text/plain": "0.6478759163939111"
                    }, 
                    "execution_count": 36
                }
            ], 
            "metadata": {}
        }, 
        {
            "source": "### Question 10\nPerform a second order polynomial transform on both the training data and testing data. Create and fit a Ridge regression object using the training data, setting the regularisation parameter to 0.1.  Calculate the R^2 utilising the test data provided. Take a screenshot of your code and the R^2.", 
            "cell_type": "markdown", 
            "metadata": {}
        }, 
        {
            "source": "from sklearn.preprocessing import PolynomialFeatures\npr = PolynomialFeatures(degree=2)\nx_train_pr = pr.fit_transform(x_train)\nx_test_pr = pr.fit_transform(x_test)\npr\n\nRigeModel_=Ridge(alpha=0.1)\nRigeModel_.fit(x_train_pr, y_train)\nR2= RigeModel_.score(x_test_pr,y_test)\nprint(\"Value of R^2: \", R2)", 
            "cell_type": "code", 
            "execution_count": 44, 
            "outputs": [
                {
                    "output_type": "stream", 
                    "name": "stdout", 
                    "text": "Value of R^2:  0.7002744268659787\n"
                }
            ], 
            "metadata": {}
        }, 
        {
            "source": "", 
            "cell_type": "markdown", 
            "metadata": {}
        }
    ], 
    "nbformat": 4, 
    "metadata": {
        "kernelspec": {
            "display_name": "Python 3.6", 
            "name": "python3", 
            "language": "python"
        }, 
        "widgets": {
            "state": {}, 
            "version": "1.1.2"
        }, 
        "language_info": {
            "mimetype": "text/x-python", 
            "nbconvert_exporter": "python", 
            "version": "3.6.8", 
            "name": "python", 
            "pygments_lexer": "ipython3", 
            "file_extension": ".py", 
            "codemirror_mode": {
                "version": 3, 
                "name": "ipython"
            }
        }
    }
}
